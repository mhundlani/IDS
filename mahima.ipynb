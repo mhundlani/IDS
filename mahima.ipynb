{
 "cells": [
  {
   "cell_type": "code",
   "execution_count": 1,
   "id": "2b77ab86",
   "metadata": {},
   "outputs": [
    {
     "name": "stdout",
     "output_type": "stream",
     "text": [
      "Requirement already satisfied: catboost in c:\\users\\abc\\anaconda31\\lib\\site-packages (1.2.2)\n",
      "Requirement already satisfied: numpy>=1.16.0 in c:\\users\\abc\\anaconda31\\lib\\site-packages (from catboost) (1.24.3)\n",
      "Requirement already satisfied: plotly in c:\\users\\abc\\anaconda31\\lib\\site-packages (from catboost) (5.15.0)\n",
      "Requirement already satisfied: six in c:\\users\\abc\\anaconda31\\lib\\site-packages (from catboost) (1.15.0)\n",
      "Requirement already satisfied: scipy in c:\\users\\abc\\anaconda31\\lib\\site-packages (from catboost) (1.10.1)\n",
      "Requirement already satisfied: pandas>=0.24 in c:\\users\\abc\\anaconda31\\lib\\site-packages (from catboost) (1.2.4)\n",
      "Requirement already satisfied: graphviz in c:\\users\\abc\\anaconda31\\lib\\site-packages (from catboost) (0.20.1)\n",
      "Requirement already satisfied: matplotlib in c:\\users\\abc\\anaconda31\\lib\\site-packages (from catboost) (3.7.2)\n",
      "Requirement already satisfied: pytz>=2017.3 in c:\\users\\abc\\anaconda31\\lib\\site-packages (from pandas>=0.24->catboost) (2021.1)\n",
      "Requirement already satisfied: python-dateutil>=2.7.3 in c:\\users\\abc\\anaconda31\\lib\\site-packages (from pandas>=0.24->catboost) (2.8.1)\n",
      "Requirement already satisfied: pyparsing<3.1,>=2.3.1 in c:\\users\\abc\\anaconda31\\lib\\site-packages (from matplotlib->catboost) (2.4.7)\n",
      "Requirement already satisfied: contourpy>=1.0.1 in c:\\users\\abc\\anaconda31\\lib\\site-packages (from matplotlib->catboost) (1.1.0)\n",
      "Requirement already satisfied: importlib-resources>=3.2.0 in c:\\users\\abc\\anaconda31\\lib\\site-packages (from matplotlib->catboost) (6.0.0)\n",
      "Requirement already satisfied: packaging>=20.0 in c:\\users\\abc\\anaconda31\\lib\\site-packages (from matplotlib->catboost) (20.9)\n",
      "Requirement already satisfied: fonttools>=4.22.0 in c:\\users\\abc\\anaconda31\\lib\\site-packages (from matplotlib->catboost) (4.41.1)\n",
      "Requirement already satisfied: pillow>=6.2.0 in c:\\users\\abc\\anaconda31\\lib\\site-packages (from matplotlib->catboost) (8.2.0)\n",
      "Requirement already satisfied: cycler>=0.10 in c:\\users\\abc\\anaconda31\\lib\\site-packages (from matplotlib->catboost) (0.10.0)\n",
      "Requirement already satisfied: kiwisolver>=1.0.1 in c:\\users\\abc\\anaconda31\\lib\\site-packages (from matplotlib->catboost) (1.3.1)\n",
      "Requirement already satisfied: zipp>=3.1.0 in c:\\users\\abc\\anaconda31\\lib\\site-packages (from importlib-resources>=3.2.0->matplotlib->catboost) (3.4.1)\n",
      "Requirement already satisfied: tenacity>=6.2.0 in c:\\users\\abc\\anaconda31\\lib\\site-packages (from plotly->catboost) (8.2.2)\n",
      "Requirement already satisfied: lightgbm in c:\\users\\abc\\anaconda31\\lib\\site-packages (4.1.0)\n",
      "Requirement already satisfied: numpy in c:\\users\\abc\\anaconda31\\lib\\site-packages (from lightgbm) (1.24.3)\n",
      "Requirement already satisfied: scipy in c:\\users\\abc\\anaconda31\\lib\\site-packages (from lightgbm) (1.10.1)\n",
      "Requirement already satisfied: xgboost in c:\\users\\abc\\anaconda31\\lib\\site-packages (2.0.0)\n",
      "Requirement already satisfied: scipy in c:\\users\\abc\\anaconda31\\lib\\site-packages (from xgboost) (1.10.1)\n",
      "Requirement already satisfied: numpy in c:\\users\\abc\\anaconda31\\lib\\site-packages (from xgboost) (1.24.3)\n",
      "Requirement already satisfied: termcolor in c:\\users\\abc\\anaconda31\\lib\\site-packages (2.3.0)\n"
     ]
    }
   ],
   "source": [
    "!pip install catboost\n",
    "!pip install lightgbm\n",
    "!pip install xgboost\n",
    "!pip install termcolor\n",
    "import os\n",
    "import timeit\n",
    "import warnings\n",
    "from collections import defaultdict\n",
    "\n",
    "import catboost as cb\n",
    "import lightgbm as lgb\n",
    "import matplotlib.pyplot as plt\n",
    "import numpy as np\n",
    "import pandas as pd\n",
    "import xgboost as xgb\n",
    "from imblearn.under_sampling import CondensedNearestNeighbour\n",
    "from sklearn.ensemble import AdaBoostClassifier\n",
    "from sklearn.ensemble import RandomForestClassifier, VotingClassifier\n",
    "from sklearn.linear_model import LogisticRegression\n",
    "from sklearn.linear_model import SGDClassifier\n",
    "from sklearn.metrics import accuracy_score, classification_report\n",
    "    #plot_confusion_matrix\n",
    "from sklearn.metrics import confusion_matrix, zero_one_loss\n",
    "from sklearn.model_selection import GridSearchCV\n",
    "from sklearn.neighbors import KNeighborsClassifier\n",
    "from sklearn.neural_network import MLPClassifier\n",
    "from sklearn.preprocessing import MinMaxScaler\n",
    "from sklearn.preprocessing import RobustScaler\n",
    "from sklearn.preprocessing import StandardScaler\n",
    "from sklearn.svm import SVC\n",
    "from sklearn.tree import DecisionTreeClassifier\n",
    "from termcolor import colored\n"
   ]
  },
  {
   "cell_type": "code",
   "execution_count": 2,
   "id": "e68b6f33",
   "metadata": {},
   "outputs": [],
   "source": [
    "# import imblearn\n",
    "\n",
    "warnings.filterwarnings('ignore')\n",
    "\n",
    "np.random.seed(100)\n",
    "\n",
    "dataset_root = ''\n",
    "\n",
    "train_file = os.path.join(dataset_root, 'KDDTrain+.txt')\n",
    "test_file = os.path.join(dataset_root, 'KDDTest+.txt')\n"
   ]
  },
  {
   "cell_type": "code",
   "execution_count": 3,
   "id": "f4d4a920",
   "metadata": {},
   "outputs": [
    {
     "data": {
      "text/plain": [
       "'KDDTrain+.txt'"
      ]
     },
     "execution_count": 3,
     "metadata": {},
     "output_type": "execute_result"
    }
   ],
   "source": [
    "train_file"
   ]
  },
  {
   "cell_type": "code",
   "execution_count": 4,
   "id": "a25abb3e",
   "metadata": {},
   "outputs": [],
   "source": [
    "header_names = ['duration', 'protocol_type', 'service', 'flag', 'src_bytes', 'dst_bytes', 'land', 'wrong_fragment',\n",
    "                'urgent', 'hot', 'num_failed_logins', 'logged_in', 'num_compromised', 'root_shell', 'su_attempted',\n",
    "                'num_root', 'num_file_creations', 'num_shells', 'num_access_files', 'num_outbound_cmds',\n",
    "                'is_host_login', 'is_guest_login', 'count', 'srv_count', 'serror_rate', 'srv_serror_rate',\n",
    "                'rerror_rate', 'srv_rerror_rate', 'same_srv_rate', 'diff_srv_rate', 'srv_diff_host_rate',\n",
    "                'dst_host_count', 'dst_host_srv_count', 'dst_host_same_srv_rate', 'dst_host_diff_srv_rate',\n",
    "                'dst_host_same_src_port_rate', 'dst_host_srv_diff_host_rate', 'dst_host_serror_rate',\n",
    "                'dst_host_srv_serror_rate', 'dst_host_rerror_rate', 'dst_host_srv_rerror_rate', 'attack_type',\n",
    "                'success_pred']\n"
   ]
  },
  {
   "cell_type": "code",
   "execution_count": 5,
   "id": "6db98ba5",
   "metadata": {},
   "outputs": [
    {
     "data": {
      "text/plain": [
       "<Axes: >"
      ]
     },
     "execution_count": 5,
     "metadata": {},
     "output_type": "execute_result"
    },
    {
     "data": {
      "image/png": "[encoded data removed]",
      "text/plain": [
       "<Figure size 1440x720 with 1 Axes>"
      ]
     },
     "metadata": {
      "needs_background": "light"
     },
     "output_type": "display_data"
    }
   ],
   "source": [
    "col_names = np.array(header_names)\n",
    "\n",
    "nominal_idx = [1, 2, 3]\n",
    "binary_idx = [6, 11, 13, 14, 20, 21]\n",
    "numeric_idx = list(set(range(41)).difference(nominal_idx).difference(binary_idx))\n",
    "\n",
    "nominal_cols = col_names[nominal_idx].tolist()\n",
    "binary_cols = col_names[binary_idx].tolist()\n",
    "numeric_cols = col_names[numeric_idx].tolist()\n",
    "\n",
    "# training_attack_types.txt maps each of the 22 different attacks to 1 of 4 categories\n",
    "# file obtained from http://kdd.ics.uci.edu/databases/kddcup99/training_attack_types\n",
    "\n",
    "\n",
    "category = defaultdict(list)\n",
    "category['benign'].append('normal')\n",
    "\n",
    "with open('training_attack_types.txt', 'r') as f:\n",
    "    for line in f.readlines():\n",
    "        attack, cat = line.strip().split(' ')\n",
    "        category[cat].append(attack)\n",
    "\n",
    "attack_mapping = dict((v, k) for k in category for v in category[k])\n",
    "\n",
    "train_df = pd.read_csv(train_file, names=header_names)\n",
    "\n",
    "train_df['attack_category'] = train_df['attack_type'] \\\n",
    "    .map(lambda x: attack_mapping[x])\n",
    "train_df.drop(['success_pred'], axis=1, inplace=True)\n",
    "\n",
    "test_df = pd.read_csv(test_file, names=header_names)\n",
    "test_df['attack_category'] = test_df['attack_type'] \\\n",
    "    .map(lambda x: attack_mapping[x])\n",
    "test_df.drop(['success_pred'], axis=1, inplace=True)\n",
    "\n",
    "train_attack_types = train_df['attack_type'].value_counts()\n",
    "train_attack_cats = train_df['attack_category'].value_counts()\n",
    "\n",
    "test_attack_types = test_df['attack_type'].value_counts()\n",
    "test_attack_cats = test_df['attack_category'].value_counts()\n",
    "\n",
    "train_attack_types.plot(kind='barh', figsize=(20, 10), fontsize=20)\n",
    "\n",
    "train_attack_cats.plot(kind='barh', figsize=(20, 10), fontsize=30)\n",
    "\n",
    "test_attack_types.plot(kind='barh', figsize=(20, 10), fontsize=15)\n",
    "\n",
    "test_attack_cats.plot(kind='barh', figsize=(20, 10), fontsize=30)\n",
    "\n"
   ]
  },
  {
   "cell_type": "code",
   "execution_count": 6,
   "id": "b8e4e865",
   "metadata": {},
   "outputs": [],
   "source": [
    "train_df[binary_cols].describe().transpose()\n",
    "\n",
    "# Wait a minute... the su_attempted column has a max value of 2.0?\n",
    "\n",
    "train_df.groupby(['su_attempted']).size()\n",
    "\n",
    "# Let's fix this discrepancy and assume that su_attempted=2 -> su_attempted=0\n",
    "\n",
    "train_df['su_attempted'].replace(2, 0, inplace=True)\n",
    "test_df['su_attempted'].replace(2, 0, inplace=True)\n",
    "train_df.groupby(['su_attempted']).size()\n",
    "\n",
    "# Next, we notice that the num_outbound_cmds column only takes on one value!\n",
    "\n",
    "train_df.groupby(['num_outbound_cmds']).size()\n",
    "\n",
    "# Now, that's not a very useful feature - let's drop it from the dataset\n",
    "\n",
    "train_df.drop('num_outbound_cmds', axis=1, inplace=True)\n",
    "test_df.drop('num_outbound_cmds', axis=1, inplace=True)\n",
    "numeric_cols.remove('num_outbound_cmds')\n",
    "\n",
    "\"\"\"\n",
    "Data Preparation\n",
    "\n",
    "\"\"\"\n",
    "train_Y = train_df['attack_category']\n",
    "train_x_raw = train_df.drop(['attack_category', 'attack_type'], axis=1)\n",
    "test_Y = test_df['attack_category']\n",
    "test_x_raw = test_df.drop(['attack_category', 'attack_type'], axis=1)\n",
    "\n",
    "'''# feature selection\n",
    "def select_features(X_train, y_train, X_test):\n",
    "    fs = SelectKBest(score_func=mutual_info_classif, k=30)\n",
    "    fs.fit(X_train, y_train)\n",
    "    X_train_fs = fs.transform(X_train)\n",
    "    X_test_fs = fs.transform(X_test)\n",
    "    return X_train_fs, X_test_fs\n",
    "'''\n",
    "\n",
    "combined_df_raw = pd.concat([train_x_raw, test_x_raw])\n",
    "combined_df = pd.get_dummies(combined_df_raw, columns=nominal_cols, drop_first=True)\n",
    "\n",
    "train_x = combined_df[:len(train_x_raw)]\n",
    "test_x = combined_df[len(train_x_raw):]\n",
    "\n",
    "# use this for catboost\n",
    "x_train = train_x_raw\n",
    "x_test = test_x_raw\n",
    "\n",
    "# Store dummy variable feature names\n",
    "dummy_variables = list(set(train_x) - set(combined_df_raw))\n",
    "\n",
    "# execute the commands in console\n",
    "train_x.describe()\n",
    "train_x['duration'].describe()\n",
    "\n",
    "# Experimenting with StandardScaler on the single 'duration' feature\n",
    "durations = train_x['duration'].values.reshape(-1, 1)\n",
    "standard_scaler = StandardScaler().fit(durations)\n",
    "scaled_durations = standard_scaler.transform(durations)\n",
    "pd.Series(scaled_durations.flatten()).describe()\n",
    "\n",
    "# Experimenting with MinMaxScaler on the single 'duration' feature\n",
    "\n",
    "min_max_scaler = MinMaxScaler().fit(durations)\n",
    "min_max_scaled_durations = min_max_scaler.transform(durations)\n",
    "pd.Series(min_max_scaled_durations.flatten()).describe()\n",
    "\n",
    "# Experimenting with RobustScaler on the single 'duration' feature\n",
    "\n",
    "min_max_scaler = RobustScaler().fit(durations)\n",
    "robust_scaled_durations = min_max_scaler.transform(durations)\n",
    "pd.Series(robust_scaled_durations.flatten()).describe()\n",
    "\n",
    "# Let's proceed with StandardScaler- Apply to all the numeric columns\n",
    "\n",
    "standard_scaler = StandardScaler().fit(train_x[numeric_cols])\n",
    "\n",
    "train_x[numeric_cols] = \\\n",
    "    standard_scaler.transform(train_x[numeric_cols])\n",
    "\n",
    "test_x[numeric_cols] = \\\n",
    "    standard_scaler.transform(test_x[numeric_cols])\n",
    "\n",
    "train_x.describe()\n",
    "\n",
    "train_Y_bin = train_Y.apply(lambda x: 0 if x is 'benign' else 1)\n",
    "test_Y_bin = test_Y.apply(lambda x: 0 if x is 'benign' else 1)\n"
   ]
  },
  {
   "cell_type": "code",
   "execution_count": 7,
   "id": "61beb2d2",
   "metadata": {},
   "outputs": [
    {
     "name": "stdout",
     "output_type": "stream",
     "text": [
      "------Decision Tree Classification-------\n",
      "[[9365   56  289    1    0]\n",
      " [1541 5998   97    0    0]\n",
      " [ 677  220 1526    0    0]\n",
      " [2278    1   14  277    4]\n",
      " [ 175    0    5    5   15]]\n",
      "0.2378903477643719\n"
     ]
    }
   ],
   "source": [
    "    print(\"------Decision Tree Classification-------\")\n",
    "\n",
    "    # build Decision Tree classifier\n",
    "    classifier = DecisionTreeClassifier(random_state=17)\n",
    "\n",
    "    # Train Classifier\n",
    "    classifier.fit(train_x, train_Y)\n",
    "\n",
    "    # predict\n",
    "    pred_y = classifier.predict(test_x)\n",
    "\n",
    "    # confusion matrix\n",
    "    results = confusion_matrix(test_Y, pred_y)\n",
    "\n",
    "    # error rate\n",
    "    error = zero_one_loss(test_Y, pred_y)\n",
    "\n",
    "    # print results\n",
    "    print(results)\n",
    "    print(error)\n"
   ]
  },
  {
   "cell_type": "code",
   "execution_count": 8,
   "id": "491e5255",
   "metadata": {},
   "outputs": [
    {
     "name": "stdout",
     "output_type": "stream",
     "text": [
      "*******************\n",
      "Step 4: Data Exploration (Understanding the data)\n",
      "*******************\n",
      "1. Identify the attribute names (Header)\n",
      "Index(['duration', 'protocol_type', 'service', 'flag', 'src_bytes',\n",
      "       'dst_bytes', 'land', 'wrong_fragment', 'urgent', 'hot',\n",
      "       'num_failed_logins', 'logged_in', 'num_compromised', 'root_shell',\n",
      "       'su_attempted', 'num_root', 'num_file_creations', 'num_shells',\n",
      "       'num_access_files', 'is_host_login', 'is_guest_login', 'count',\n",
      "       'srv_count', 'serror_rate', 'srv_serror_rate', 'rerror_rate',\n",
      "       'srv_rerror_rate', 'same_srv_rate', 'diff_srv_rate',\n",
      "       'srv_diff_host_rate', 'dst_host_count', 'dst_host_srv_count',\n",
      "       'dst_host_same_srv_rate', 'dst_host_diff_srv_rate',\n",
      "       'dst_host_same_src_port_rate', 'dst_host_srv_diff_host_rate',\n",
      "       'dst_host_serror_rate', 'dst_host_srv_serror_rate',\n",
      "       'dst_host_rerror_rate', 'dst_host_srv_rerror_rate', 'attack_type',\n",
      "       'attack_category'],\n",
      "      dtype='object')\n",
      "2. Check the length of the Train and Test dataset\n",
      "length of Train dataset:  5290866\n",
      "length of Test dataset:  946848\n",
      "3. Check the total number of samples that belong to each of the five classes of the training dataset.\n",
      "attack_category\n",
      "benign    67343\n",
      "dos       45927\n",
      "probe     11656\n",
      "r2l         995\n",
      "u2r          52\n",
      "Name: flag, dtype: int64\n",
      "*******************\n"
     ]
    }
   ],
   "source": [
    "    print(\"*******************\")\n",
    "    print(\"Step 4: Data Exploration (Understanding the data)\")\n",
    "    print(\"*******************\")\n",
    "    print(\"1. Identify the attribute names (Header)\")\n",
    "    print(train_df.columns)\n",
    "    print(\"2. Check the length of the Train and Test dataset\")\n",
    "    print(\"length of Train dataset: \", train_df.size)\n",
    "    print(\"length of Test dataset: \", test_df.size)\n",
    "    print(\"3. Check the total number of samples that belong to each of the five classes of the training dataset.\")\n",
    "    print(train_df.groupby('attack_category')['flag'].count())\n",
    "    print(\"*******************\")"
   ]
  },
  {
   "cell_type": "code",
   "execution_count": 9,
   "id": "e2770a32",
   "metadata": {},
   "outputs": [
    {
     "name": "stdout",
     "output_type": "stream",
     "text": [
      "Searching for optimal parameters..............\n",
      "Training the data...............\n",
      "{'criterion': 'gini', 'max_depth': 30, 'min_samples_split': 2, 'n_estimators': 60}\n",
      "RandomForestClassifier(max_depth=30, n_estimators=60)\n",
      "0.9987537011899376\n"
     ]
    }
   ],
   "source": [
    "grid_params = {\n",
    "        'n_estimators': [60],\n",
    "        'criterion': [\"gini\"],\n",
    "        'min_samples_split': [2, 4, 6, 10],\n",
    "        'max_depth': [20, 25, 30],\n",
    "        # 'max_leaf_nodes': [1, 5, 7, 10]\n",
    "    }\n",
    "\n",
    "    # random forest classifer\n",
    "clf = RandomForestClassifier()\n",
    "\n",
    "print(\"Searching for optimal parameters..............\")\n",
    "\n",
    "    # Building a 3 fold Cross-Validated GridSearchCV object\n",
    "grid_object = GridSearchCV(estimator=clf, param_grid=grid_params, cv=3)\n",
    "\n",
    "print(\"Training the data...............\")\n",
    "\n",
    "    # Fitting the grid to the training data\n",
    "grid_object.fit(train_x, train_Y)\n",
    "\n",
    "    # Extracting the best parameters\n",
    "print(grid_object.best_params_)\n",
    "\n",
    "    # Extracting the best model\n",
    "rf_best = grid_object.best_estimator_\n",
    "print(rf_best)\n",
    "\n",
    "print(grid_object.best_score_)\n"
   ]
  },
  {
   "cell_type": "code",
   "execution_count": 10,
   "id": "35c2ccce",
   "metadata": {},
   "outputs": [
    {
     "name": "stdout",
     "output_type": "stream",
     "text": [
      "------Random Forest Classification-------\n",
      "Training the Random Forest Classifier.......\n",
      "The time difference is : 8.385746647000019\n",
      "Predicting test data.......\n"
     ]
    }
   ],
   "source": [
    "    print(colored(\"------Random Forest Classification-------\", 'red'))\n",
    "    # build classifier\n",
    "    clf = RandomForestClassifier(criterion='entropy', max_depth=30, n_estimators=48, random_state=0)\n",
    "\n",
    "    # start timer\n",
    "    start_time = timeit.default_timer()\n",
    "\n",
    "    print(\"Training the Random Forest Classifier.......\")\n",
    "\n",
    "    clf = clf.fit(train_x, train_Y)\n",
    "\n",
    "    # end timer\n",
    "    print(\"The time difference is :\", timeit.default_timer() - start_time)\n",
    "\n",
    "    print(\"Predicting test data.......\")"
   ]
  },
  {
   "cell_type": "code",
   "execution_count": 11,
   "id": "4080b22c",
   "metadata": {},
   "outputs": [
    {
     "name": "stdout",
     "output_type": "stream",
     "text": [
      "Confusion Matrix\n",
      "---------------------------\n",
      " [[9459   67  184    0    1]\n",
      " [1350 6250   36    0    0]\n",
      " [ 772  166 1485    0    0]\n",
      " [2460    0    2  110    2]\n",
      " [ 192    0    1    4    3]]\n",
      "---------------------------\n",
      "Error: 23.2301%\n",
      "Accuracy Score: 76.7699%\n",
      "              precision    recall  f1-score   support\n",
      "\n",
      "      benign       0.66      0.97      0.79      9711\n",
      "         dos       0.96      0.82      0.89      7636\n",
      "       probe       0.87      0.61      0.72      2423\n",
      "         r2l       0.96      0.04      0.08      2574\n",
      "         u2r       0.50      0.01      0.03       200\n",
      "\n",
      "    accuracy                           0.77     22544\n",
      "   macro avg       0.79      0.49      0.50     22544\n",
      "weighted avg       0.82      0.77      0.73     22544\n",
      "\n",
      "accuracy:  [0.97405005 0.81849136 0.6128766  0.04273504 0.015     ]\n"
     ]
    },
    {
     "data": {
      "image/png": "[encoded data removed]",
      "text/plain": [
       "<Figure size 432x288 with 2 Axes>"
      ]
     },
     "metadata": {
      "needs_background": "light"
     },
     "output_type": "display_data"
    }
   ],
   "source": [
    "import seaborn as sns\n",
    "    # predict test data\n",
    "pred_y = clf.predict(test_x)\n",
    "\n",
    "    # analyse prediction\n",
    "c_matrix = confusion_matrix(test_Y, pred_y)  # confusion matrix\n",
    "error = zero_one_loss(test_Y, pred_y)  # error\n",
    "score = accuracy_score(test_Y, pred_y)  # accuracy score\n",
    "\n",
    "print('Confusion Matrix\\n---------------------------\\n', c_matrix)\n",
    "print('---------------------------')\n",
    "print(\"Error: {:.4f}%\".format(error * 100))\n",
    "print(classification_report(test_Y, pred_y))\n",
    "print(\"Accuracy Score: {:.4f}%\".format(score * 100))\n",
    "\n",
    "\n",
    "    # Plot non-normalized confusion matrix\n",
    "#plot_confusion_matrix(clf, test_x, test_Y, cmap=plt.cm.Greens, values_format='.0f', xticks_rotation='horizontal')\n",
    "\n",
    "sns.heatmap(c_matrix,\n",
    "            annot=True)\n",
    "plt.ylabel('Prediction',fontsize=13)\n",
    "plt.xlabel('Actual',fontsize=13)\n",
    "plt.title('Confusion Matrix',fontsize=17)\n",
    "plt.show()\n",
    "\n"
   ]
  },
  {
   "cell_type": "code",
   "execution_count": 12,
   "id": "98d2f510",
   "metadata": {},
   "outputs": [
    {
     "data": {
      "image/png": "[encoded data removed]",
      "text/plain": [
       "<Figure size 432x288 with 2 Axes>"
      ]
     },
     "metadata": {
      "needs_background": "light"
     },
     "output_type": "display_data"
    }
   ],
   "source": [
    "sns.heatmap(c_matrix,\n",
    "            annot=True)\n",
    "plt.ylabel('Prediction',fontsize=13)\n",
    "plt.xlabel('Actual',fontsize=13)\n",
    "plt.title('Confusion Matrix',fontsize=17)\n",
    "plt.show()\n"
   ]
  },
  {
   "cell_type": "code",
   "execution_count": 35,
   "id": "3173df8f",
   "metadata": {},
   "outputs": [
    {
     "name": "stdout",
     "output_type": "stream",
     "text": [
      "------Voting Classification-------\n",
      "Training the Voting classification.......\n",
      "The time difference is : 20.8070443659999\n",
      "Predicting test data.......\n",
      "Confusion Matrix\n",
      "---------------------------\n",
      " [[9445   67  198    1    0]\n",
      " [1619 5971   46    0    0]\n",
      " [ 655  212 1556    0    0]\n",
      " [2361    0    3  208    2]\n",
      " [ 182    0    2    4   12]]\n",
      "---------------------------\n",
      "Error: 23.7402%\n",
      "              precision    recall  f1-score   support\n",
      "\n",
      "      benign       0.66      0.97      0.79      9711\n",
      "         dos       0.96      0.78      0.86      7636\n",
      "       probe       0.86      0.64      0.74      2423\n",
      "         r2l       0.98      0.08      0.15      2574\n",
      "         u2r       0.86      0.06      0.11       200\n",
      "\n",
      "    accuracy                           0.76     22544\n",
      "   macro avg       0.86      0.51      0.53     22544\n",
      "weighted avg       0.82      0.76      0.73     22544\n",
      "\n",
      "Accuracy:  97.26083822469364\n"
     ]
    }
   ],
   "source": [
    "    print(colored(\"------Voting Classification-------\", 'red'))\n",
    "\n",
    "    # models\n",
    "    random_forest = RandomForestClassifier()\n",
    "    clf_lr = LogisticRegression()\n",
    "    clf_dt = DecisionTreeClassifier(random_state=17)\n",
    "    # build classifier\n",
    "    model = VotingClassifier(estimators=[('rf', random_forest), ('lr', clf_lr),('dt', clf_dt)], voting='soft',\n",
    "                             n_jobs=-1, weights=[2,1,2])\n",
    "\n",
    "    print(\"Training the Voting classification.......\")\n",
    "\n",
    "    # start timer\n",
    "    starttime = timeit.default_timer()  # start timer\n",
    "\n",
    "    cnn = CondensedNearestNeighbour(random_state=42)  # doctest: +SKIP\n",
    "\n",
    "    # train\n",
    "    model.fit(train_x, train_Y)\n",
    "\n",
    "    print(\"The time difference is :\", timeit.default_timer() - starttime)\n",
    "\n",
    "    print(\"Predicting test data.......\")\n",
    "\n",
    "    # predict\n",
    "    y_pred = model.predict(test_x)\n",
    "\n",
    "    # results\n",
    "    c_matrix = confusion_matrix(test_Y, y_pred)\n",
    "    error = zero_one_loss(test_Y, y_pred)\n",
    "    score = accuracy_score(test_Y, y_pred)\n",
    "\n",
    "    # display results\n",
    "    print('Confusion Matrix\\n---------------------------\\n', c_matrix)\n",
    "    print('---------------------------')\n",
    "    print(\"Error: {:.4f}%\".format(error * 100))\n",
    "    print(classification_report(test_Y, y_pred))\n",
    "    abc=c_matrix.diagonal() / c_matrix.sum(axis=1)\n",
    "    print('Accuracy: ',abc[0]*100)\n",
    "    \n",
    "    "
   ]
  },
  {
   "cell_type": "code",
   "execution_count": 20,
   "id": "c433d1fa",
   "metadata": {},
   "outputs": [
    {
     "data": {
      "image/png": "[encoded data removed]",
      "text/plain": [
       "<Figure size 432x288 with 2 Axes>"
      ]
     },
     "metadata": {
      "needs_background": "light"
     },
     "output_type": "display_data"
    }
   ],
   "source": [
    "sns.heatmap(c_matrix,\n",
    "            annot=True)\n",
    "plt.ylabel('Prediction',fontsize=13)\n",
    "plt.xlabel('Actual',fontsize=13)\n",
    "plt.title('Confusion Matrix',fontsize=17)\n",
    "plt.show()\n"
   ]
  },
  {
   "cell_type": "code",
   "execution_count": null,
   "id": "b11f0b19",
   "metadata": {},
   "outputs": [],
   "source": []
  }
 ],
 "metadata": {
  "kernelspec": {
   "display_name": "Python 3",
   "language": "python",
   "name": "python3"
  },
  "language_info": {
   "codemirror_mode": {
    "name": "ipython",
    "version": 3
   },
   "file_extension": ".py",
   "mimetype": "text/x-python",
   "name": "python",
   "nbconvert_exporter": "python",
   "pygments_lexer": "ipython3",
   "version": "3.8.8"
  }
 },
 "nbformat": 4,
 "nbformat_minor": 5
}
